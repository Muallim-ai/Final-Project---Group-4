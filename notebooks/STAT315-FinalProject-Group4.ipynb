{
 "cells": [
  {
   "cell_type": "markdown",
   "id": "08f726d4",
   "metadata": {},
   "source": [
    "# Final Project - Group 4: Revenue Dynamics in Online Event Ticket Sales\n",
    "\n",
    "## 1. Defining the Question(s)\n",
    "- Main question\n",
    "- Supporting questions\n",
    "- Motivation for analysis\n",
    "\n",
    "## 2. Data Collection\n",
    "- Dataset source\n",
    "- Feature descriptions\n",
    "- Context and background\n",
    "\n",
    "## 3. Data Cleaning and Preparation\n",
    "- Data quality issues and resolutions\n",
    "- Feature engineering steps\n",
    "- Handling missing values\n",
    "\n",
    "## 4. Data Analysis\n",
    "- Visualizations\n",
    "- Resampling (Bootstrap, Cross-Validation)\n",
    "- Statistical modeling\n",
    "\n",
    "## 5. Interpretation and Reporting\n",
    "- Key findings\n",
    "- Insights and implications\n",
    "- Limitations and future directions\n"
   ]
  }
 ],
 "metadata": {
  "kernelspec": {
   "display_name": "Python 3",
   "language": "python",
   "name": "python3"
  },
  "language_info": {
   "codemirror_mode": {
    "name": "ipython",
    "version": 3
   },
   "file_extension": ".py",
   "mimetype": "text/x-python",
   "name": "python",
   "nbconvert_exporter": "python",
   "pygments_lexer": "ipython3",
   "version": "3.8.8"
  }
 },
 "nbformat": 4,
 "nbformat_minor": 5
}
